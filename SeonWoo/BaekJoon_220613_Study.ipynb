{
 "cells": [
  {
   "cell_type": "markdown",
   "id": "7d4a0605",
   "metadata": {},
   "source": [
    "# [백준 - Linked List _ DryType](https://www.acmicpc.net/workbook/view/1066)"
   ]
  },
  {
   "cell_type": "markdown",
   "id": "5b1ec2bf",
   "metadata": {},
   "source": [
    "## [회전하는 큐](https://www.acmicpc.net/problem/1021)\n",
    "\n",
    "- 문제 \n",
    "\n",
    "> 지민이는 N개의 원소를 포함하고 있는 양방향 순환 큐를 가지고 있다.   \n",
    "> 지민이는 이 큐에서 몇 개의 원소를 뽑아내려고 한다.\n",
    "> \n",
    "> 지민이는 이 큐에서 다음과 같은 3가지 연산을 수행할 수 있다.\n",
    "> \n",
    "> 1. 첫 번째 원소를 뽑아낸다. 이 연산을 수행하면, 원래 큐의 원소가 a1, ..., ak이었던 것이 a2, ..., ak와 같이 된다.\n",
    "> 2. 왼쪽으로 한 칸 이동시킨다. 이 연산을 수행하면, a1, ..., ak가 a2, ..., ak, a1이 된다.\n",
    "> 3. 오른쪽으로 한 칸 이동시킨다. 이 연산을 수행하면, a1, ..., ak가 ak, a1, ..., ak-1이 된다.\n",
    "> 큐에 처음에 포함되어 있던 수 N이 주어진다.\n",
    "> \n",
    "> 그리고 지민이가 뽑아내려고 하는 원소의 위치가 주어진다. (이 위치는 가장 처음 큐에서의 위치이다.)  \n",
    "> 이때, 그 원소를 주어진 순서대로 뽑아내는데 드는 2번, 3번 연산의 최솟값을 출력하는 프로그램을 작성하시오.\n",
    "\n",
    "- 입력\n",
    "\n",
    "> 첫째 줄에 큐의 크기 N과 뽑아내려고 하는 수의 개수 M이 주어진다.  \n",
    "> N은 50보다 작거나 같은 자연수이고, M은 N보다 작거나 같은 자연수이다.  \n",
    "> 둘째 줄에는 지민이가 뽑아내려고 하는 수의 위치가 순서대로 주어진다.  \n",
    "> 위치는 1보다 크거나 같고, N보다 작거나 같은 자연수이다."
   ]
  },
  {
   "cell_type": "markdown",
   "id": "c64f6a86",
   "metadata": {},
   "source": [
    "### 풀이"
   ]
  },
  {
   "cell_type": "code",
   "execution_count": 4,
   "id": "de7bfd5a",
   "metadata": {
    "ExecuteTime": {
     "end_time": "2022-06-12T08:48:55.868736Z",
     "start_time": "2022-06-12T08:48:34.881606Z"
    },
    "scrolled": false
   },
   "outputs": [
    {
     "name": "stdout",
     "output_type": "stream",
     "text": [
      "10 3\n",
      "2 3 5\n",
      "2\n"
     ]
    }
   ],
   "source": [
    "# deque 함수 사용을 위해 collections 모듈 호출\n",
    "from collections import deque\n",
    "\n",
    "# 첫째 줄에 큐의 크기 N과 뽑아내려고 하는 수의 개수 M 입력\n",
    "n , m = map(int, input().split())\n",
    "\n",
    "# 큐 생성 (양방향 접근의 편의성을 위해 deque 사용)\n",
    "queue = deque([i for i in range(1, n+1)])\n",
    "\n",
    "# 뽑아내려고 하는 수의 위치가 순서대로 주어짐\n",
    "arr = list(map(int, input().split()))\n",
    "\n",
    "# 결과값 : 회전시킨 숫자를 cnt로 하여 카운트 예정\n",
    "cnt = 0\n",
    "\n",
    "for i in arr:\n",
    "    while True:\n",
    "        if queue[0] == i:           # 맨 처음의 원소가 우리가 찾는 원소라면\n",
    "            queue.popleft()          # 해당 값을 추출\n",
    "            break\n",
    "        else:                                         # 맨 처음의 원소가 우리가 찾는 원소가 아니라면\n",
    "            if queue.index(i) <= len(queue) // 2:     # 우리가 찾는 원소의 위치가 리스트 중앙 기준 좌측인지 확인\n",
    "                queue.rotate(-1)                       # 맞다면, 좌측으로 한칸 회전시킴\n",
    "                cnt += 1                               # 회전시킨 횟수를 1만큼 늘려줌.\n",
    "            else:                                     # 찾는 원소의 위치가, 리스트 중앙 기준 우측인지 확인\n",
    "                queue.rotate(1)                        # 맞다면, 우측으로 한칸 회전시킴\n",
    "                cnt += 1                               # 회전시킨 횟수를 1만큼 늘려줌.\n",
    "print(cnt)\n",
    "\n",
    "# 참고 : https://yuna0125.tistory.com/m/12"
   ]
  },
  {
   "cell_type": "markdown",
   "id": "3c8c0195",
   "metadata": {},
   "source": [
    "### 학습 내용\n",
    "\n",
    "[deque - 언제, 왜 사용해야 하는가?](https://leonkong.cc/posts/python-deque.html)\n",
    "\n",
    "- <span style = \"color:blue\">collections 모듈의 deque 함수</span>  \n",
    ">    **```deque : 앞, 뒤 양쪽 방향에서 원소를 추가하거나 제거 가능```**\n",
    ">    - 양 끝 엘리먼트의 append와 pop이 압도적으로 빠르다.\n",
    ">    - 컨테이너(container)의 양끝 엘리먼트(element)에 접근하여 삽입 또는 제거를 할 경우,  \n",
    "        일반적인 리스트(list)가 이러한 연산에 O(n)이 소요되는 데 반해, 데크(deque)는 O(1)로 접근 가능하다.\n",
    "- <span style = \"color:blue\">데크(deque) 함수의 메서드(method)</span>  \n",
    ">    **```deque.append(item)```** : item을 데크의 오른쪽 끝에 삽입한다.  \n",
    ">    **```deque.appendleft(item)```** : item을 데크의 왼쪽 끝에 삽입한다.  \n",
    ">    **```deque.pop()```** : 데크의 오른쪽 끝 엘리먼트를 가져오는 동시에 데크에서 삭제한다.  \n",
    ">    **```deque.popleft()```** : 데크의 왼쪽 끝 엘리먼트를 가져오는 동시에 데크에서 삭제한다.  \n",
    ">    **```deque.extend(array)```** : 주어진 배열(array)을 순환하면서 데크의 오른쪽에 추가한다.  \n",
    ">    **```deque.extendleft(array)```** : 주어진 배열(array)을 순환하면서 데크의 왼쪽에 추가한다.  \n",
    ">    **```deque.remove(item)```** : item을 데크에서 찾아 삭제한다.  \n",
    ">    **```deque.rotate(num)```** : 데크를 num만큼 회전한다(양수면 오른쪽, 음수면 왼쪽).  \n",
    "- <span style = \"color:blue\">데크(deque), 언제 왜 써야 하는가?(method)</span>  \n",
    ">    - 요약하자면, 데크(deque)는 스택처럼 사용할 수도 있고, 큐 처럼 사용할 수도 있다.\n",
    ">    - <u>시작점의 값을 넣고 빼거나, 끝 점의 값을 넣고 빼는 데 최적화된 연산 속도를 제공</u>한다.\n",
    ">    - 즉, 대부분의 경우에 데크(deque)는 리스트(list)보다 월등한 옵션이다.\n",
    ">    - 데크는 특히 push/pop 연산이 빈번한 알고리즘에서 리스트보다 월등한 속도를 자랑한다."
   ]
  },
  {
   "cell_type": "markdown",
   "id": "94a316af",
   "metadata": {},
   "source": [
    "## [요세푸스 문제](https://www.acmicpc.net/problem/1158)\n",
    "\n",
    "- 문제 \n",
    "\n",
    ">요세푸스 문제는 다음과 같다.\n",
    "> - 1번부터 N번까지 N명의 사람이 원을 이루면서 앉아있고, 양의 정수 K(≤ N)가 주어진다.  \n",
    "> - 이제 순서대로 K번째 사람을 제거한다.  \n",
    "> - 한 사람이 제거되면 남은 사람들로 이루어진 원을 따라 이 과정을 계속해 나간다.  \n",
    "> - 이 과정은 N명의 사람이 모두 제거될 때까지 계속된다.  \n",
    "> - 원에서 사람들이 제거되는 순서를 (N, K)-요세푸스 순열이라고 한다.  \n",
    "> - 예를 들어 (7, 3)-요세푸스 순열은 <3, 6, 2, 7, 5, 1, 4>이다.\n",
    "\n",
    "- 입력\n",
    "> N과 K가 주어지면 (N, K)-요세푸스 순열을 구하는 프로그램을 작성하시오."
   ]
  },
  {
   "cell_type": "markdown",
   "id": "5c1671b0",
   "metadata": {},
   "source": [
    "### 풀이"
   ]
  },
  {
   "cell_type": "code",
   "execution_count": null,
   "id": "f88cfae7",
   "metadata": {
    "scrolled": false
   },
   "outputs": [],
   "source": [
    "# 첫째 줄에 총 인원수 N과 주기로 제거할 K번째 값을 입력\n",
    "N,K = map(int,input().split())\n",
    "\n",
    "# 처음에 원의 형태로 앉아있는 사람들 : list 생성\n",
    "arr = list(range(1,N+1))\n",
    "\n",
    "# 제거될 사람의 인덱스 번호\n",
    "num = 0  \n",
    "\n",
    "# 결과값 : 제거된 사람들을 넣을 배열\n",
    "answer = []   \n",
    "\n",
    "\n",
    "for t in range(N):\n",
    "    num += K-1                # K가 아닌 K-1인 이유? 아래에 pop을 할 때, num 값이 index로 들어가기 때문!\n",
    "                               # num = (K-1)이라면, index 값이 (K-1)인 셈이고 그렇다면 pop을 할 때 리스트에서 K번째 원소를 추출함.\n",
    "    if num >= len(arr):       # 한 바퀴를 돌고 그 다음으로 돌아올 때를 대비해 값을 나머지로 바꿈  \n",
    "        num = num%len(arr)\n",
    "        \n",
    "    answer.append(str(arr.pop(num)))          # K번째 값에 대해 answer 리스트에 추가\n",
    "\n",
    "# 문제에서 요구한 형태로 출력          ->     참고 : https://tturbo0824.tistory.com/18\n",
    "print(\"<\",\", \".join(answer),\">\", sep='')\n",
    "\n",
    "# 참고 : https://infinitt.tistory.com/213"
   ]
  },
  {
   "cell_type": "code",
   "execution_count": null,
   "id": "ecb1a0b5",
   "metadata": {},
   "outputs": [],
   "source": [
    "# deque 함수 사용을 위해 collections 모듈 호출\n",
    "from collections import deque\n",
    "\n",
    "# 첫째 줄에 총 인원수 N과 주기로 제거할 K번째 값을 입력\n",
    "n, k = map(int, input().split())\n",
    "\n",
    "# 처음에 원의 형태로 앉아있는 사람들 : 큐 생성 (양방향 접근의 편의성을 위해 deque 사용)\n",
    "queue = deque(range(1,n+1))\n",
    "\n",
    "# 결과값 : 순서대로 추출한 값을 answer라는 list에 담아서 출력 예정\n",
    "answer = []\n",
    "\n",
    "\n",
    "while queue:                             # 4.아래 작업들을 반복하였을 때, queue 리스트가 처음 모양과 동일한 형태가 되면 종료. \n",
    "    for i in range(k-1):                 # 1. 우리는 k번째 값을 뽑을 예정이기에, 1~(k-1)번째 값에 대한 처리를 할 것이다\n",
    "        queue.append(queue.popleft())     # 2. 좌측부터 1~(k-1)번째 값에 대해 queue 리스트에서 제거 후 다시 리스트 우측 끝에 추가\n",
    "    answer.append(queue.popleft())        # 3. k번째 값에 대해서는 answer 리스트에 추가\n",
    "                                            # → 즉,queue 리스트의 원소가 한 번 씩 answer에 다 담기고, \n",
    "                                            #       queue 리스트가 처음과 동일한 형태로 돌아가면 해당 while 문이 종료된다는 뜻임.\n",
    "            \n",
    "# 문제에서 요구한 형태로 출력          ->     참고 : https://tturbo0824.tistory.com/18\n",
    "print(\"<\", ', '.join(str(i) for i in answer), \">\", sep = '')\n",
    "\n",
    "\n",
    "# 참고: https://hongcoding.tistory.com/41"
   ]
  },
  {
   "cell_type": "markdown",
   "id": "fb083f30",
   "metadata": {},
   "source": [
    "## [풍선 터뜨리기](https://www.acmicpc.net/problem/2346)\n",
    "\n",
    "- 문제 \n",
    "\n",
    "> 1번부터 N번까지 N개의 풍선이 원형으로 놓여 있고. i번 풍선의 오른쪽에는 i+1번 풍선이 있고, 왼쪽에는 i-1번 풍선이 있다.  \n",
    "> 단, 1번 풍선의 왼쪽에 N번 풍선이 있고, N번 풍선의 오른쪽에 1번 풍선이 있다.  \n",
    "> 각 풍선 안에는 종이가 하나 들어있고, 종이에는 -N보다 크거나 같고, N보다 작거나 같은 정수가 하나 적혀있다.  \n",
    "> 이 풍선들을 다음과 같은 규칙으로 터뜨린다.\n",
    "> \n",
    "> 우선, 제일 처음에는 1번 풍선을 터뜨린다.  \n",
    "> 다음에는 풍선 안에 있는 종이를 꺼내어 그 종이에 적혀있는 값만큼 이동하여 다음 풍선을 터뜨린다.  \n",
    "> 양수가 적혀 있을 경우에는 오른쪽으로, 음수가 적혀 있을 때는 왼쪽으로 이동한다. 이동할 때에는 이미 터진 풍선은 빼고 이동한다.\n",
    "> \n",
    "> 예를 들어 다섯 개의 풍선 안에 차례로 3, 2, 1, -3, -1이 적혀 있었다고 하자.  \n",
    "> 이 경우 3이 적혀 있는 1번 풍선, -3이 적혀 있는 4번 풍선, -1이 적혀 있는 5번 풍선,  \n",
    "> 1이 적혀 있는 3번 풍선, 2가 적혀 있는 2번 풍선의 순서대로 터지게 된다.\n",
    "\n",
    "- 입력\n",
    "\n",
    "> 첫째 줄에 자연수 N(1 ≤ N ≤ 1,000)이 주어진다.  \n",
    "> 다음 줄에는 차례로 각 풍선 안의 종이에 적혀 있는 수가 주어진다.  \n",
    ">종이에 0은 적혀있지 않다."
   ]
  },
  {
   "cell_type": "markdown",
   "id": "11fb10c6",
   "metadata": {},
   "source": [
    "### 풀이"
   ]
  },
  {
   "cell_type": "code",
   "execution_count": null,
   "id": "fa7e177f",
   "metadata": {
    "scrolled": false
   },
   "outputs": [],
   "source": [
    "# 총 풍선의 개수 입력받기\n",
    "N = int(input())\n",
    "\n",
    "# 풍선 안에 적혀있는 숫자들을 순서대로 입력받기\n",
    "list_N = list(map(int, input().split()))\n",
    "\n",
    "# 풍선의 순서를 리스트로 지정\n",
    "list_index = list(range(1,N+1))\n",
    "\n",
    "# 결과값 : 터지는 풍선의 순서를 해당 리스트에 추가하여 출력 예정\n",
    "result = []\n",
    "\n",
    "# 첫 번째 풍선을 터뜨렸을 때\n",
    "idx = 0                              # 첫 번째 풍선의 index : idx\n",
    "k = list_N.pop(idx)                  # k : 첫 번째 풍선 내의 숫자 -> list_N에서 추출\n",
    "result.append(list_index.pop(idx))   # result 리스트에 첫 번째 풍선의 순서를 추가\n",
    "\n",
    "\n",
    "while(len(list_N) > 0):                  # 풍선을 다 터뜨려서 남아있지 않으면 그만하겠다\n",
    "    \n",
    "    # 풍선 속 숫자가 음수이면 인덱스에 풍선 속 숫자를 더한 후 리스트의 길이로 나누면 다음 인덱스가 나온다.\n",
    "    if(k < 0):\n",
    "        idx = (idx+k) % len(list_N)\n",
    "    # 풍선 속 숫자가 양수이면 인덱스에 풍선 속 숫자에서 1을 뺀 것을 더한 후 리스트의 길이로 나누면 다음 인덱스가 나온다.\n",
    "    # (-1)의 의미는 리스트 슬라이싱 시 음수가 들어가는 경우를 생각해보면 됨.\n",
    "    else:\n",
    "        idx = (idx+(k-1))%len(list_N)\n",
    "        \n",
    "    k = list_N.pop(idx)\n",
    "    result.append(list_index.pop(idx))\n",
    "        \n",
    "        \n",
    "for j in range(N):\n",
    "    print(result[j], end=\" \")\n",
    "    \n",
    "# 참고 : https://carrido-hobbies-well-being.tistory.com/120"
   ]
  },
  {
   "cell_type": "code",
   "execution_count": null,
   "id": "8f29d561",
   "metadata": {},
   "outputs": [],
   "source": [
    "# deque 함수 사용을 위해 collections 모듈 호출\n",
    "from collections import deque\n",
    "\n",
    "# 문자열 입력을 받기 위한 모듈 및 함수   -> 참고 : https://velog.io/@yeseolee/Python-파이썬-입력-정리sys.stdin.readline\n",
    "import sys\n",
    "input = sys.stdin.readline\n",
    "\n",
    "# 총 풍선의 개수 입력받기\n",
    "n = int(input())\n",
    "\n",
    "# 풍선 안에 적혀있는 숫자들을 순서대로 입력받아서 \n",
    "# enumerate 함수를 이용하여 (index, value) 쌍의 tuple 형태로 객체를 반환 후 deque로 만들기\n",
    "arr = deque(enumerate(map(int,input().split()),1))\n",
    "\n",
    "# 결과값 : 터지는 풍선의 순서를 해당 리스트에 추가하여 출력 예정\n",
    "ans = []\n",
    "\n",
    "# index No.를 이용하여 풍선의 터지는 순서를 입력 예정\n",
    "idx = 0\n",
    "\n",
    "while arr:\n",
    "    if idx > 0:                        # idx가 양수라면, 0이 될 때까지 작업을 반복\n",
    "        a,b = arr.popleft()             # 제일 왼쪽의 원소를 추출\n",
    "        arr.append((a,b))               # 추출한 원소를 다시 풍선 deque의 맨 오른쪽에 삽입\n",
    "        idx -=1                         # idx 값을 하나 줄이기\n",
    "    elif idx < 0:                      # idx가 음수라면, 0이 될 때까지 작업을 반복\n",
    "        a,b = arr.pop()                 # 제일 오른쪽의 원소를 추출\n",
    "        arr.appendleft((a,b))           # 추출한 원소를 다시 풍선 deque의 맨 왼쪽에 삽입\n",
    "        idx +=1                         # idx 값을 하나 늘리기\n",
    "    else:                              # idx가 0이라면,\n",
    "        a,b = arr.popleft()             # 제일 왼쪽의 원소를 추출\n",
    "        ans.append(a)                   # 추출한 원소의 idx 값만 ans list에 삽입\n",
    "        if b > 0:                       # value값(= 이동방향 & 이동길이 포함)이 양수라면\n",
    "            idx = b-1                   # idx 값은 value에서 하나 뺀 값으로 지정(list의 슬라이싱 생각해보면 답나옴)\n",
    "        else:                           # value값(= 이동방향 & 이동길이 포함)이 음수라면\n",
    "            idx = b                      # idx 값은 value 값으로 지정(list의 슬라이싱 생각해보면 답나옴)\n",
    "            \n",
    "print(*ans)\n",
    "\n",
    "# 참고 : https://my-coding-notes.tistory.com/527"
   ]
  },
  {
   "cell_type": "markdown",
   "id": "75058e9a",
   "metadata": {},
   "source": [
    "### 학습 내용\n",
    "\n",
    "[enumerate 함수](https://jimmy-ai.tistory.com/103)\n",
    "\n",
    "> - 이 함수는 순서가 있는 자료형(list, set, tuple, dictionary, string)을 입력으로 받아 인덱스 값을 포함하는 enumerate 객체를 리턴합니다.\n",
    "> - 보통 enumerate 함수는 for문과 함께 자주 사용됩니다.\n",
    ">\n",
    "> - 참고 : https://wikidocs.net/20792\n",
    "> - 참고 : https://pearlluck.tistory.com/466"
   ]
  },
  {
   "cell_type": "markdown",
   "id": "bb8c809e",
   "metadata": {},
   "source": [
    "## [행운의 바퀴](https://www.acmicpc.net/problem/2840)\n",
    "\n",
    "- 문제 \n",
    "\n",
    "> 상덕이는 최근에 행운의 바퀴를 구매했다. 상덕이는 바퀴의 각 칸에 알파벳 대문자를 아래 그림과 같이 적었다.\n",
    ">\n",
    "> ![image.png](data:image/png;base64,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)\n",
    ">\n",
    "> 바퀴에 같은 글자는 두 번 이상 등장하지 않는다. 또, 바퀴는 시계방향으로만 돌아간다.   \n",
    "바퀴 옆에는 화살표가 있는데, 이 화살표는 항상 한 곳을 가리키고 있으며, 돌아가는 동안 가리키는 글자는 바뀌게 된다.  \n",
    "위의 그림에서는 H를 가리키고 있다.\n",
    ">\n",
    "> 상덕이는 바퀴를 연속해서 K번 돌릴 것이다.  \n",
    "> 매번 바퀴를 돌릴 때 마다, 상덕이는 화살표가 가리키는 글자가 변하는 횟수와 어떤 글자에서 회전을 멈추었는지를 종이에 적는다.\n",
    ">\n",
    "> 희원이는 상덕이가 적어놓은 종이를 발견했다. 그 종이를 바탕으로 상덕이가 바퀴에 적은 알파벳을 알아내려고 한다.  \n",
    ">\n",
    "> 상덕이가 종이에 적어놓은 내용과 바퀴의 칸의 수가 주어졌을 때, 바퀴에 적어놓은 알파벳을 알아내는 프로그램을 작성하시오.  \n",
    "\n",
    "- 입력\n",
    "\n",
    "> 첫째 줄에 바퀴의 칸의 수 N과 상덕이가 바퀴를 돌리는 횟수 K가 주어진다. (2 ≤ N ≤ 25, 1 ≤ K ≤ 100)\n",
    "> 다음 줄부터 K줄에는 바퀴를 회전시켰을 때 화살표가 가리키는 글자가 몇 번 바뀌었는지를 나타내는 S와 회전을 멈추었을 때\n",
    "> 가리키던 글자가 주어진다. (1 ≤ S ≤ 100)"
   ]
  },
  {
   "cell_type": "markdown",
   "id": "eb8aacc5",
   "metadata": {},
   "source": [
    "### 풀이"
   ]
  },
  {
   "cell_type": "code",
   "execution_count": null,
   "id": "f9a0c879",
   "metadata": {
    "scrolled": false
   },
   "outputs": [],
   "source": [
    "\n",
    "\n",
    "\n",
    "# 참고 : https://derekahndev.github.io/problem%20solving/boj-2840/"
   ]
  },
  {
   "cell_type": "code",
   "execution_count": null,
   "id": "28cbd32b",
   "metadata": {},
   "outputs": [],
   "source": []
  },
  {
   "cell_type": "markdown",
   "id": "f941b1f9",
   "metadata": {},
   "source": []
  },
  {
   "cell_type": "markdown",
   "id": "8b6893be",
   "metadata": {},
   "source": [
    "## [에디터](https://www.acmicpc.net/problem/1406)\n",
    "\n",
    "- 문제 \n",
    "\n",
    "> 한 줄로 된 간단한 에디터를 구현하려고 한다. 이 편집기는 영어 소문자만을 기록할 수 있는 편집기로, 최대 600,000글자까지 입력할 수 있다.  \n",
    "> 이 편집기에는 '커서'라는 것이 있는데,  \n",
    "> 커서는 문장의 맨 앞(첫 번째 문자의 왼쪽), 문장의 맨 뒤(마지막 문자의 오른쪽),  \n",
    "> 또는 문장 중간 임의의 곳(모든 연속된 두 문자 사이)에 위치할 수 있다.  \n",
    "> 즉 길이가 L인 문자열이 현재 편집기에 입력되어 있으면, 커서가 위치할 수 있는 곳은 L+1가지 경우가 있다.\n",
    ">\n",
    "> 이 편집기가 지원하는 명령어는 다음과 같다.\n",
    ">> - **L** : 커서를 왼쪽으로 한 칸 옮김 (커서가 문장의 맨 앞이면 무시됨)  \n",
    ">> - **D** : 커서를 오른쪽으로 한 칸 옮김 (커서가 문장의 맨 뒤이면 무시됨)  \n",
    ">> - **B** : 커서 왼쪽에 있는 문자를 삭제함 (커서가 문장의 맨 앞이면 무시됨).\n",
    ">>    - 삭제로 인해 커서는 한 칸 왼쪽으로 이동한 것처럼 나타나지만, 실제로 커서의 오른쪽에 있던 문자는 그대로임.   \n",
    ">> - **P ＄** : ＄라는 문자를 커서 왼쪽에 추가함\n",
    ">\n",
    "> 초기에 편집기에 입력되어 있는 문자열이 주어지고, 그 이후 입력한 명령어가 차례로 주어졌을 때,  \n",
    "> 모든 명령어를 수행하고 난 후 편집기에 입력되어 있는 문자열을 구하는 프로그램을 작성하시오.  \n",
    "> 단, 명령어가 수행되기 전에 커서는 문장의 맨 뒤에 위치하고 있다고 한다.\n",
    "\n",
    "- 입력\n",
    "\n",
    "> 첫째 줄에는 초기에 편집기에 입력되어 있는 문자열이 주어진다.  \n",
    "> 이 문자열은 길이가 N이고, 영어 소문자로만 이루어져 있으며, 길이는 100,000을 넘지 않는다.  \n",
    "> 둘째 줄에는 입력할 명령어의 개수를 나타내는 정수 M(1 ≤ M ≤ 500,000)이 주어진다.  \n",
    "> 셋째 줄부터 M개의 줄에 걸쳐 입력할 명령어가 순서대로 주어진다.  \n",
    "> 명령어는 위의 네 가지 중 하나의 형태로만 주어진다."
   ]
  },
  {
   "cell_type": "markdown",
   "id": "ac611388",
   "metadata": {},
   "source": [
    "### 풀이"
   ]
  },
  {
   "cell_type": "code",
   "execution_count": null,
   "id": "9827e457",
   "metadata": {
    "scrolled": false
   },
   "outputs": [],
   "source": [
    "import sys                                          # sys.stdin.readline()을 쓰기 위해서 import sys.\n",
    "  \n",
    "stack_l = list(input())                              # 스택 왼쪽을 표현한 stack_l 변수에 문자 입력 받음\n",
    "stack_r = []                                         # 스택 오른쪽을 표현한 stack_r 변수에 스택을 쌓기 위해 빈 리스트 초기화.\n",
    "n = int(input())                                     # n변수에 edit 입력 횟수 입력 받음.\n",
    "\n",
    "for i in range(n):                                  # for문을 edit 입력 횟수에 따라 반복시키고 그 안에서 edit 입력 받음.\n",
    "    command = sys.stdin.readline().split()\n",
    "\n",
    "    if command[0] == \"L\" and stack_l:               # command[0]가 L과 같고 stack_l이 True(값이 있으면)면,\n",
    "        stack_r.append(stack_l.pop())                # stack_l의 마지막 값을 pop해서 stack_r 마지막자리에 append해서 넣는다.\n",
    "    elif command[0] == \"D\" and stack_r:             # command[0]가 D과 같고 stack_r이 True(값이 있으면)면,\n",
    "        stack_l.append(stack_r.pop())                # stack_r의 마지막 값을 pop해서 stack_l 마지막자리에 append해서 넣는다\n",
    "    elif command[0] == \"B\" and stack_l:             # for문 안에서 입력받은 command[0]가 B와 같고 stack_l이 True(값이 있으면)면,\n",
    "        stack_l.pop()                                # stack_l의 마지막 값을 pop한다.\n",
    "    elif command[0] == \"P\":                         # for문 안에서 입력받은 command[0]가 P와 같으면,\n",
    "        stack_l.append(command[1])                   # stack_l의 마지막 값에 입력받은 command[1]을 append 한다.\n",
    "        \n",
    "# stack_l와 stack_r을 합쳐야 한다\n",
    "print(\"\".join(stack_l + list(reversed(stack_r))))    # stark_r을 뒤집어야 원하는 원래 문자열 배열 순서로 돌아옴\n",
    "\n",
    "# 참고 : https://velog.io/@tkdduf727/백준-괄호-1406번-파이썬-Python-자료구조"
   ]
  },
  {
   "cell_type": "markdown",
   "id": "eecda2f4",
   "metadata": {},
   "source": [
    "### 학습 내용\n",
    "\n",
    "[input()대신 sys.stdin.readline()을 사용하는 이유](https://velog.io/@yeseolee/Python-파이썬-입력-정리sys.stdin.readline)\n",
    "\n",
    "1.  <span style = \"color:red\"><u>반복문으로 여러줄 입력받는 상황</u>에서는 반드시 sys.stdin.readline()을 사용해야 시간초과가 발생하지 않습니다.</span>  \n",
    "\n",
    "    - <span style = \"color:blue\">한 개의 정수를 입력받을 때</span>  \n",
    "> ```python\n",
    "> import sys\n",
    "> a = int(sys.stdin.readline())\n",
    "> ```\n",
    "\n",
    "    - <span style = \"color:blue\">정해진 개수의 정수를 한줄에 입력받을 때</span>  \n",
    "> ```python\n",
    "> import sys\n",
    "> a,b,c = map(int,sys.stdin.readline().split())\n",
    "> ```\n",
    "\n",
    "    - <span style = \"color:blue\">임의의 개수의 정수를 한줄에 입력받아 리스트에 저장할 때</span>  \n",
    "> ```python\n",
    "> import sys\n",
    "> data = list(map(int,sys.stdin.readline().split()))\n",
    "> ```\n",
    "\n",
    "    - <span style = \"color:blue\">임의의 개수의 정수를 n줄 입력받아 2차원 리스트에 저장할 때</span>  \n",
    "> ```python\n",
    "> import sys\n",
    "> data = []\n",
    "> n = int(sys.stdin.readline())\n",
    "> for i in range(n):\n",
    ">    data.append(list(map(int,sys.stdin.readline().split())))\n",
    "> ```\n",
    "\n",
    "    - <span style = \"color:blue\">문자열 n줄을 입력받아 리스트에 저장할 때</span>  \n",
    "> ```python\n",
    "> import sys\n",
    "> n = int(sys.stdin.readline())\n",
    "> data = [sys.stdin.readline().strip() for i in range(n)]\n",
    "> ```\n"
   ]
  },
  {
   "cell_type": "markdown",
   "id": "3aabd073",
   "metadata": {},
   "source": [
    "## [키로거](https://www.acmicpc.net/problem/5397)\n",
    "\n",
    "- 문제 \n",
    "\n",
    "> 창영이는 강산이의 비밀번호를 훔치기 위해서 강산이가 사용하는 컴퓨터에 키로거를 설치했다. \n",
    "> 며칠을 기다린 끝에 창영이는 강산이가 비밀번호 창에 입력하는 글자를 얻어냈다.  \n",
    "> \n",
    "> 키로거는 사용자가 키보드를 누른 명령을 모두 기록한다.  \n",
    "> 따라서, 강산이가 비밀번호를 입력할 때, 화살표나 백스페이스를 입력해도 정확한 비밀번호를 알아낼 수 있다.  \n",
    "> \n",
    "> 강산이가 비밀번호 창에서 입력한 키가 주어졌을 때, 강산이의 비밀번호를 알아내는 프로그램을 작성하시오.  \n",
    "> 강산이는 키보드로 입력한 키는 알파벳 대문자, 소문자, 숫자, 백스페이스, 화살표이다.\n",
    "\n",
    "- 입력\n",
    "\n",
    "> 첫째 줄에 테스트 케이스의 개수가 주어진다.  \n",
    "> 각 테스트 케이스는 한줄로 이루어져 있고, 강산이가 입력한 순서대로 길이가 L인 문자열이 주어진다. (1 ≤ L ≤ 1,000,000)  \n",
    "> 강산이가 백스페이스를 입력했다면, '-'가 주어진다.  \n",
    "> 이때 커서의 바로 앞에 글자가 존재한다면, 그 글자를 지운다.  \n",
    "> 화살표의 입력은 '<'와 '>'로 주어진다. 이때는 커서의 위치를 움직일 수 있다면, 왼쪽 또는 오른쪽으로 1만큼 움직인다.  \n",
    "> 나머지 문자는 비밀번호의 일부이다. 물론, 나중에 백스페이스를 통해서 지울 수는 있다.  \n",
    "> 만약 커서의 위치가 줄의 마지막이 아니라면, 커서 및 커서 오른쪽에 있는 모든 문자는 오른쪽으로 한 칸 이동한다."
   ]
  },
  {
   "cell_type": "markdown",
   "id": "cfe7fab7",
   "metadata": {},
   "source": [
    "### 풀이"
   ]
  },
  {
   "cell_type": "code",
   "execution_count": null,
   "id": "c806a3fd",
   "metadata": {
    "scrolled": false
   },
   "outputs": [],
   "source": []
  },
  {
   "cell_type": "code",
   "execution_count": null,
   "id": "116e249e",
   "metadata": {},
   "outputs": [],
   "source": []
  },
  {
   "cell_type": "markdown",
   "id": "14405626",
   "metadata": {},
   "source": []
  },
  {
   "cell_type": "markdown",
   "id": "279e8542",
   "metadata": {},
   "source": [
    "## [뱀](https://www.acmicpc.net/problem/3190)\n",
    "\n",
    "- 문제 \n",
    "\n",
    "> 'Dummy' 라는 도스게임이 있다. 이 게임에는 뱀이 나와서 기어다니는데, 사과를 먹으면 뱀 길이가 늘어난다.  \n",
    "> 뱀이 이리저리 기어다니다가 벽 또는 자기자신의 몸과 부딪히면 게임이 끝난다.\n",
    "> \n",
    "> 게임은 NxN 정사각 보드위에서 진행되고, 몇몇 칸에는 사과가 놓여져 있다.  \n",
    "> 보드의 상하좌우 끝에 벽이 있다.  \n",
    "> 게임이 시작할때 뱀은 맨위 맨좌측에 위치하고 뱀의 길이는 1 이다. 뱀은 처음에 오른쪽을 향한다.\n",
    "> \n",
    "> 뱀은 매 초마다 이동을 하는데 다음과 같은 규칙을 따른다.\n",
    "> \n",
    "> - 먼저 뱀은 몸길이를 늘려 머리를 다음칸에 위치시킨다.  \n",
    "> - 만약 이동한 칸에 사과가 있다면, 그 칸에 있던 사과가 없어지고 꼬리는 움직이지 않는다.  \n",
    "> - 만약 이동한 칸에 사과가 없다면, 몸길이를 줄여서 꼬리가 위치한 칸을 비워준다. 즉, 몸길이는 변하지 않는다.  \n",
    "> \n",
    "> 사과의 위치와 뱀의 이동경로가 주어질 때 이 게임이 몇 초에 끝나는지 계산하라.  \n",
    "\n",
    "- 입력\n",
    "\n",
    "> 첫째 줄에 보드의 크기 N이 주어진다. (2 ≤ N ≤ 100) 다음 줄에 사과의 개수 K가 주어진다. (0 ≤ K ≤ 100)\n",
    "> \n",
    "> 다음 K개의 줄에는 사과의 위치가 주어지는데, 첫 번째 정수는 행, 두 번째 정수는 열 위치를 의미한다.  \n",
    "> 사과의 위치는 모두 다르며, 맨 위 맨 좌측 (1행 1열) 에는 사과가 없다.\n",
    "> \n",
    "> 다음 줄에는 뱀의 방향 변환 횟수 L 이 주어진다. (1 ≤ L ≤ 100)\n",
    "> \n",
    "> 다음 L개의 줄에는 뱀의 방향 변환 정보가 주어지는데,  정수 X와 문자 C로 이루어져 있으며,  \n",
    "> 게임 시작 시간으로부터 X초가 끝난 뒤에 왼쪽(C가 'L') 또는 오른쪽(C가 'D')로 90도 방향을 회전시킨다는 뜻이다.  \n",
    "> X는 10,000 이하의 양의 정수이며, 방향 전환 정보는 X가 증가하는 순으로 주어진다."
   ]
  },
  {
   "cell_type": "markdown",
   "id": "5e926045",
   "metadata": {},
   "source": [
    "### 풀이"
   ]
  },
  {
   "cell_type": "code",
   "execution_count": null,
   "id": "f0675a97",
   "metadata": {
    "scrolled": false
   },
   "outputs": [],
   "source": []
  },
  {
   "cell_type": "code",
   "execution_count": null,
   "id": "a1e1d664",
   "metadata": {},
   "outputs": [],
   "source": []
  },
  {
   "cell_type": "markdown",
   "id": "87784192",
   "metadata": {},
   "source": []
  }
 ],
 "metadata": {
  "hide_input": false,
  "kernelspec": {
   "display_name": "Python 3 (ipykernel)",
   "language": "python",
   "name": "python3"
  },
  "language_info": {
   "codemirror_mode": {
    "name": "ipython",
    "version": 3
   },
   "file_extension": ".py",
   "mimetype": "text/x-python",
   "name": "python",
   "nbconvert_exporter": "python",
   "pygments_lexer": "ipython3",
   "version": "3.8.13"
  },
  "toc": {
   "base_numbering": 1,
   "nav_menu": {},
   "number_sections": true,
   "sideBar": true,
   "skip_h1_title": false,
   "title_cell": "Table of Contents",
   "title_sidebar": "Contents",
   "toc_cell": false,
   "toc_position": {},
   "toc_section_display": true,
   "toc_window_display": true
  }
 },
 "nbformat": 4,
 "nbformat_minor": 5
}
